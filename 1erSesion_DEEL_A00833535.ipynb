{
  "nbformat": 4,
  "nbformat_minor": 0,
  "metadata": {
    "colab": {
      "provenance": [],
      "authorship_tag": "ABX9TyPdDJ6q0fraC3UDD+NMvafl",
      "include_colab_link": true
    },
    "kernelspec": {
      "name": "python3",
      "display_name": "Python 3"
    },
    "language_info": {
      "name": "python"
    }
  },
  "cells": [
    {
      "cell_type": "markdown",
      "metadata": {
        "id": "view-in-github",
        "colab_type": "text"
      },
      "source": [
        "<a href=\"https://colab.research.google.com/github/diegoelensetec/seriesdetiempo_DA00833535/blob/main/1erSesion_DEEL_A00833535.ipynb\" target=\"_parent\"><img src=\"https://colab.research.google.com/assets/colab-badge.svg\" alt=\"Open In Colab\"/></a>"
      ]
    },
    {
      "cell_type": "markdown",
      "source": [
        "#Series de Tiempo \n",
        "##Diego Elense A00833535\n",
        "###Sesión 1 a 13 de febrero 2023"
      ],
      "metadata": {
        "id": "oV4uR5oTMIqs"
      }
    },
    {
      "cell_type": "code",
      "source": [
        "Variable1=7"
      ],
      "metadata": {
        "id": "-4uA_bTYM5WO"
      },
      "execution_count": 1,
      "outputs": []
    },
    {
      "cell_type": "code",
      "execution_count": 2,
      "metadata": {
        "id": "qpnliVl9LJum"
      },
      "outputs": [],
      "source": [
        "Variable2=2.5"
      ]
    },
    {
      "cell_type": "code",
      "source": [
        "Variable3='Diego'"
      ],
      "metadata": {
        "id": "cr9v6QCANXpL"
      },
      "execution_count": 3,
      "outputs": []
    },
    {
      "cell_type": "code",
      "source": [
        "print(Variable3)"
      ],
      "metadata": {
        "colab": {
          "base_uri": "https://localhost:8080/"
        },
        "id": "VrFPndNdNuzD",
        "outputId": "13a0c7bc-b382-4ce8-9ca9-609259492233"
      },
      "execution_count": 4,
      "outputs": [
        {
          "output_type": "stream",
          "name": "stdout",
          "text": [
            "Diego\n"
          ]
        }
      ]
    },
    {
      "cell_type": "code",
      "source": [
        "type(Variable1)"
      ],
      "metadata": {
        "colab": {
          "base_uri": "https://localhost:8080/"
        },
        "id": "TnGWFzVvN96s",
        "outputId": "2ed18ab2-5768-4289-e9b8-1581a39f8d3a"
      },
      "execution_count": 5,
      "outputs": [
        {
          "output_type": "execute_result",
          "data": {
            "text/plain": [
              "int"
            ]
          },
          "metadata": {},
          "execution_count": 5
        }
      ]
    },
    {
      "cell_type": "code",
      "source": [
        "type(Variable2)"
      ],
      "metadata": {
        "colab": {
          "base_uri": "https://localhost:8080/"
        },
        "id": "LeY6wD9tOB0g",
        "outputId": "38816e6b-5aa1-4a28-da3b-769e0fdef560"
      },
      "execution_count": 6,
      "outputs": [
        {
          "output_type": "execute_result",
          "data": {
            "text/plain": [
              "float"
            ]
          },
          "metadata": {},
          "execution_count": 6
        }
      ]
    },
    {
      "cell_type": "code",
      "source": [
        "type(Variable3)"
      ],
      "metadata": {
        "colab": {
          "base_uri": "https://localhost:8080/"
        },
        "id": "o7ZdY1EhOD4B",
        "outputId": "4eea3fc0-f4fb-4aca-8242-49c81e2da751"
      },
      "execution_count": 7,
      "outputs": [
        {
          "output_type": "execute_result",
          "data": {
            "text/plain": [
              "str"
            ]
          },
          "metadata": {},
          "execution_count": 7
        }
      ]
    },
    {
      "cell_type": "code",
      "source": [
        "Variable1+Variable2\n"
      ],
      "metadata": {
        "colab": {
          "base_uri": "https://localhost:8080/"
        },
        "id": "EYsAEFN-OzCq",
        "outputId": "e61480d0-121b-4930-aa6f-e0bfa6bb6873"
      },
      "execution_count": 9,
      "outputs": [
        {
          "output_type": "execute_result",
          "data": {
            "text/plain": [
              "9.5"
            ]
          },
          "metadata": {},
          "execution_count": 9
        }
      ]
    },
    {
      "cell_type": "code",
      "source": [
        "suma=Variable1+Variable2"
      ],
      "metadata": {
        "id": "qMKHJUqmPETm"
      },
      "execution_count": 10,
      "outputs": []
    },
    {
      "cell_type": "code",
      "source": [
        "suma"
      ],
      "metadata": {
        "colab": {
          "base_uri": "https://localhost:8080/"
        },
        "id": "EXfMgQICPJVB",
        "outputId": "e42783e6-908e-42c9-9a91-78974255dffd"
      },
      "execution_count": 11,
      "outputs": [
        {
          "output_type": "execute_result",
          "data": {
            "text/plain": [
              "9.5"
            ]
          },
          "metadata": {},
          "execution_count": 11
        }
      ]
    },
    {
      "cell_type": "code",
      "source": [
        "print('yo soy',Variable3)"
      ],
      "metadata": {
        "colab": {
          "base_uri": "https://localhost:8080/"
        },
        "id": "dSiYletsPSzs",
        "outputId": "640a71be-8b4b-4bfb-ef15-d1ee5c41c2b2"
      },
      "execution_count": 14,
      "outputs": [
        {
          "output_type": "stream",
          "name": "stdout",
          "text": [
            "yo soy Diego\n"
          ]
        }
      ]
    }
  ]
}